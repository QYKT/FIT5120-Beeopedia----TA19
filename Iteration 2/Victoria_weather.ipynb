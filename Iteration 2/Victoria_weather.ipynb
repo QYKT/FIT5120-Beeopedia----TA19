{
 "cells": [
  {
   "cell_type": "code",
   "execution_count": 1,
   "metadata": {},
   "outputs": [],
   "source": [
    "# required libraries\n",
    "# install packages using ----pip install---- command, if required\n",
    "from datetime import datetime\n",
    "import matplotlib.pyplot as plt\n",
    "import pandas as pd\n",
    "from tqdm import tqdm_pandas as tqdmp\n",
    "from tqdm.notebook import tqdm, tqdm_notebook, trange\n",
    "from time import sleep\n",
    "from meteostat import Stations, Daily"
   ]
  },
  {
   "cell_type": "code",
   "execution_count": 2,
   "metadata": {},
   "outputs": [],
   "source": [
    "# read australia post codes information dataset\n",
    "australia_long_lat_data = pd.read_csv(\"Australian_Post_Codes_Lat_Lon.csv\")"
   ]
  },
  {
   "cell_type": "code",
   "execution_count": 3,
   "metadata": {},
   "outputs": [],
   "source": [
    "# filter out suburb if it's empty\n",
    "australia_long_lat_data = australia_long_lat_data[australia_long_lat_data['suburb'].notna()]\n",
    "\n",
    "# retrieve Victoria data\n",
    "victoria_long_lat_data = australia_long_lat_data[australia_long_lat_data.state == 'VIC'].reset_index()\n",
    "\n",
    "# select first suburb of each postcode\n",
    "victoria_long_lat_data = victoria_long_lat_data.groupby('postcode').first().reset_index()\n",
    "\n",
    "# drop unwanted columns\n",
    "victoria_long_lat_data.drop(['index', 'state', 'dc', 'type'], axis = 1, inplace = True)"
   ]
  },
  {
   "cell_type": "code",
   "execution_count": 4,
   "metadata": {},
   "outputs": [],
   "source": [
    "# empty dataframe for storing weather information\n",
    "weather_df = pd.DataFrame(columns=['postcode' ,'suburb', 'lat', 'long', 'tavg','tmin','tmax','prcp','snow','wdir','wspd', 'wpgt', 'pres', 'tsun'])"
   ]
  },
  {
   "cell_type": "code",
   "execution_count": 5,
   "metadata": {},
   "outputs": [
    {
     "data": {
      "application/vnd.jupyter.widget-view+json": {
       "model_id": "f618b6c9d7aa49a6aedbe13ea6fa9454",
       "version_major": 2,
       "version_minor": 0
      },
      "text/plain": [
       "HBox(children=(IntProgress(value=1, bar_style='info', max=1), HTML(value='')))"
      ]
     },
     "metadata": {},
     "output_type": "display_data"
    },
    {
     "name": "stdout",
     "output_type": "stream",
     "text": [
      "\n"
     ]
    }
   ],
   "source": [
    "# looping over each row\n",
    "for index, row in tqdm_notebook(victoria_long_lat_data.iterrows()):\n",
    "    \n",
    "    # getting nearest station information\n",
    "    stations = Stations(lat = row['lat'], lon = row['lon'])\n",
    "    station = stations.fetch(1)\n",
    "    \n",
    "    # retrieve data for last 6 years\n",
    "    data = Daily(station, start = datetime(2015, 1, 1), end = datetime(2021, 7, 31))\n",
    "    data = data.fetch()\n",
    "    \n",
    "    data['postcode'] = row['postcode']\n",
    "    data['suburb'] = row['suburb']\n",
    "    data['long'] = row['lon']\n",
    "    data['lat'] = row['lat']\n",
    "    \n",
    "    # updating empty dataframe\n",
    "    weather_df = weather_df.append(data)"
   ]
  },
  {
   "cell_type": "code",
   "execution_count": 6,
   "metadata": {},
   "outputs": [],
   "source": [
    "# reset index\n",
    "weather_df.reset_index(level=0, inplace=True)\n",
    "\n",
    "# rename index to date column\n",
    "weather_df.rename(columns=({ 'index': 'Date'}), inplace=True)"
   ]
  },
  {
   "cell_type": "code",
   "execution_count": 7,
   "metadata": {},
   "outputs": [],
   "source": [
    "# split date into year, month and day\n",
    "weather_df['year'] = pd.DatetimeIndex(weather_df['Date']).year\n",
    "weather_df['month'] = pd.DatetimeIndex(weather_df['Date']).month\n",
    "weather_df['day'] = pd.DatetimeIndex(weather_df['Date']).day"
   ]
  },
  {
   "cell_type": "code",
   "execution_count": 8,
   "metadata": {},
   "outputs": [],
   "source": [
    "# drop unwanted columns\n",
    "weather_df.drop(['snow', 'wdir', 'wspd', 'wpgt', 'pres', 'tsun', 'prcp'], axis = 1, inplace = True)\n",
    "\n",
    "# clean up data where long and lat is 0 (if available)\n",
    "weather_df = weather_df[(weather_df.long != 0) & (weather_df.lat != 0)]"
   ]
  },
  {
   "cell_type": "code",
   "execution_count": 9,
   "metadata": {},
   "outputs": [],
   "source": [
    "# group data to get average minimum and maximum temp for each month of each suburb\n",
    "avg_min_temp_df = weather_df.groupby(['postcode', 'year', 'month', 'suburb', 'long', 'lat'])['tmin'].mean().reset_index()\n",
    "avg_max_temp_df = weather_df.groupby(['postcode', 'year', 'month', 'suburb', 'long', 'lat'])['tmax'].mean().reset_index()"
   ]
  },
  {
   "cell_type": "code",
   "execution_count": 10,
   "metadata": {},
   "outputs": [],
   "source": [
    "# merging both dataframes\n",
    "combined_df = pd.concat([avg_min_temp_df, avg_max_temp_df[['tmax']]], axis=1)"
   ]
  },
  {
   "cell_type": "code",
   "execution_count": 11,
   "metadata": {},
   "outputs": [],
   "source": [
    "# changing order of columns\n",
    "cols = combined_df.columns.tolist()\n",
    "cols = cols[-1:] + cols[:-1]\n",
    "combined_df = combined_df[cols]"
   ]
  },
  {
   "cell_type": "code",
   "execution_count": 12,
   "metadata": {},
   "outputs": [],
   "source": [
    "def month_name (row):\n",
    "    if row['month'] == 1 :\n",
    "        return 'January'\n",
    "    if row['month'] == 2:\n",
    "        return 'February'\n",
    "    if row['month'] == 3 :\n",
    "        return 'March'\n",
    "    if row['month'] == 4:\n",
    "        return 'April'\n",
    "    if row['month'] == 5:\n",
    "        return 'May'\n",
    "    if row['month'] == 6:\n",
    "        return 'June'\n",
    "    if row['month'] == 7:\n",
    "        return 'July'\n",
    "    if row['month'] == 8:\n",
    "        return 'August'\n",
    "    if row['month'] == 9:\n",
    "        return 'September'\n",
    "    if row['month'] == 10:\n",
    "        return 'October'\n",
    "    if row['month'] == 11:\n",
    "        return 'November'\n",
    "    return 'December'"
   ]
  },
  {
   "cell_type": "code",
   "execution_count": 13,
   "metadata": {},
   "outputs": [],
   "source": [
    "combined_df['month'] = combined_df.apply (lambda row: month_name(row), axis=1)"
   ]
  },
  {
   "cell_type": "code",
   "execution_count": 14,
   "metadata": {},
   "outputs": [],
   "source": [
    "def season_name(row):\n",
    "    if (row['month'] == \"January\") or (row['month'] == \"February\") or (row['month'] == \"December\") :\n",
    "        return 'Summer'\n",
    "    if (row['month'] == \"March\") or (row['month'] == \"April\") or (row['month'] == \"May\") :\n",
    "        return 'Autumn'\n",
    "    if (row['month'] == \"June\") or (row['month'] == \"July\") or (row['month'] == \"August\") :\n",
    "        return 'Winter'\n",
    "    if (row['month'] == \"September\") or (row['month'] == \"October\") or (row['month'] == \"November\") :\n",
    "        return 'Spring'"
   ]
  },
  {
   "cell_type": "code",
   "execution_count": 15,
   "metadata": {},
   "outputs": [],
   "source": [
    "combined_df['season'] = combined_df.apply (lambda row: season_name(row), axis=1)"
   ]
  },
  {
   "cell_type": "code",
   "execution_count": 16,
   "metadata": {},
   "outputs": [],
   "source": [
    "# creating primary key column merging postcode, suburb, year and month\n",
    "combined_df['primaryKey'] = combined_df['postcode'].map(str) + '-' + combined_df['suburb'] + '-' + combined_df['month'] + '-' + combined_df['year'].map(str)"
   ]
  },
  {
   "cell_type": "code",
   "execution_count": 17,
   "metadata": {},
   "outputs": [],
   "source": [
    "combined_df = combined_df[['primaryKey', 'postcode', 'year', 'month', 'season', 'suburb', 'long', 'lat', 'tmin', 'tmax']]"
   ]
  },
  {
   "cell_type": "code",
   "execution_count": 18,
   "metadata": {},
   "outputs": [],
   "source": [
    "combined_df['tmin'] = combined_df['tmin'].round(decimals = 2)\n",
    "combined_df['tmax'] = combined_df['tmax'].round(decimals = 2)"
   ]
  },
  {
   "cell_type": "code",
   "execution_count": 19,
   "metadata": {},
   "outputs": [
    {
     "data": {
      "text/html": [
       "<div>\n",
       "<style scoped>\n",
       "    .dataframe tbody tr th:only-of-type {\n",
       "        vertical-align: middle;\n",
       "    }\n",
       "\n",
       "    .dataframe tbody tr th {\n",
       "        vertical-align: top;\n",
       "    }\n",
       "\n",
       "    .dataframe thead th {\n",
       "        text-align: right;\n",
       "    }\n",
       "</style>\n",
       "<table border=\"1\" class=\"dataframe\">\n",
       "  <thead>\n",
       "    <tr style=\"text-align: right;\">\n",
       "      <th></th>\n",
       "      <th>primaryKey</th>\n",
       "      <th>postcode</th>\n",
       "      <th>year</th>\n",
       "      <th>month</th>\n",
       "      <th>season</th>\n",
       "      <th>suburb</th>\n",
       "      <th>long</th>\n",
       "      <th>lat</th>\n",
       "      <th>tmin</th>\n",
       "      <th>tmax</th>\n",
       "    </tr>\n",
       "  </thead>\n",
       "  <tbody>\n",
       "    <tr>\n",
       "      <th>0</th>\n",
       "      <td>3000-MELBOURNE-January-2015</td>\n",
       "      <td>3000</td>\n",
       "      <td>2015</td>\n",
       "      <td>January</td>\n",
       "      <td>Summer</td>\n",
       "      <td>MELBOURNE</td>\n",
       "      <td>144.970267</td>\n",
       "      <td>-37.814563</td>\n",
       "      <td>16.72</td>\n",
       "      <td>30.58</td>\n",
       "    </tr>\n",
       "    <tr>\n",
       "      <th>1</th>\n",
       "      <td>3002-EAST MELBOURNE-January-2015</td>\n",
       "      <td>3002</td>\n",
       "      <td>2015</td>\n",
       "      <td>January</td>\n",
       "      <td>Summer</td>\n",
       "      <td>EAST MELBOURNE</td>\n",
       "      <td>144.987811</td>\n",
       "      <td>-37.816640</td>\n",
       "      <td>16.72</td>\n",
       "      <td>30.58</td>\n",
       "    </tr>\n",
       "    <tr>\n",
       "      <th>2</th>\n",
       "      <td>3003-WEST MELBOURNE-January-2015</td>\n",
       "      <td>3003</td>\n",
       "      <td>2015</td>\n",
       "      <td>January</td>\n",
       "      <td>Summer</td>\n",
       "      <td>WEST MELBOURNE</td>\n",
       "      <td>144.941123</td>\n",
       "      <td>-37.806255</td>\n",
       "      <td>16.72</td>\n",
       "      <td>30.58</td>\n",
       "    </tr>\n",
       "    <tr>\n",
       "      <th>3</th>\n",
       "      <td>3004-MELBOURNE-January-2015</td>\n",
       "      <td>3004</td>\n",
       "      <td>2015</td>\n",
       "      <td>January</td>\n",
       "      <td>Summer</td>\n",
       "      <td>MELBOURNE</td>\n",
       "      <td>144.976335</td>\n",
       "      <td>-37.837324</td>\n",
       "      <td>16.72</td>\n",
       "      <td>30.58</td>\n",
       "    </tr>\n",
       "    <tr>\n",
       "      <th>4</th>\n",
       "      <td>3005-WORLD TRADE CENTRE-January-2015</td>\n",
       "      <td>3005</td>\n",
       "      <td>2015</td>\n",
       "      <td>January</td>\n",
       "      <td>Summer</td>\n",
       "      <td>WORLD TRADE CENTRE</td>\n",
       "      <td>144.954856</td>\n",
       "      <td>-37.822262</td>\n",
       "      <td>16.72</td>\n",
       "      <td>30.58</td>\n",
       "    </tr>\n",
       "    <tr>\n",
       "      <th>...</th>\n",
       "      <td>...</td>\n",
       "      <td>...</td>\n",
       "      <td>...</td>\n",
       "      <td>...</td>\n",
       "      <td>...</td>\n",
       "      <td>...</td>\n",
       "      <td>...</td>\n",
       "      <td>...</td>\n",
       "      <td>...</td>\n",
       "      <td>...</td>\n",
       "    </tr>\n",
       "    <tr>\n",
       "      <th>45801</th>\n",
       "      <td>8865-SOUTH MELBOURNE-April-2021</td>\n",
       "      <td>8865</td>\n",
       "      <td>2021</td>\n",
       "      <td>April</td>\n",
       "      <td>Autumn</td>\n",
       "      <td>SOUTH MELBOURNE</td>\n",
       "      <td>145.033718</td>\n",
       "      <td>-37.932910</td>\n",
       "      <td>11.58</td>\n",
       "      <td>19.99</td>\n",
       "    </tr>\n",
       "    <tr>\n",
       "      <th>45802</th>\n",
       "      <td>8865-SOUTH MELBOURNE-May-2021</td>\n",
       "      <td>8865</td>\n",
       "      <td>2021</td>\n",
       "      <td>May</td>\n",
       "      <td>Autumn</td>\n",
       "      <td>SOUTH MELBOURNE</td>\n",
       "      <td>145.033718</td>\n",
       "      <td>-37.932910</td>\n",
       "      <td>8.28</td>\n",
       "      <td>17.44</td>\n",
       "    </tr>\n",
       "    <tr>\n",
       "      <th>45803</th>\n",
       "      <td>8865-SOUTH MELBOURNE-June-2021</td>\n",
       "      <td>8865</td>\n",
       "      <td>2021</td>\n",
       "      <td>June</td>\n",
       "      <td>Winter</td>\n",
       "      <td>SOUTH MELBOURNE</td>\n",
       "      <td>145.033718</td>\n",
       "      <td>-37.932910</td>\n",
       "      <td>6.69</td>\n",
       "      <td>15.16</td>\n",
       "    </tr>\n",
       "    <tr>\n",
       "      <th>45804</th>\n",
       "      <td>8865-SOUTH MELBOURNE-July-2021</td>\n",
       "      <td>8865</td>\n",
       "      <td>2021</td>\n",
       "      <td>July</td>\n",
       "      <td>Winter</td>\n",
       "      <td>SOUTH MELBOURNE</td>\n",
       "      <td>145.033718</td>\n",
       "      <td>-37.932910</td>\n",
       "      <td>7.12</td>\n",
       "      <td>14.31</td>\n",
       "    </tr>\n",
       "    <tr>\n",
       "      <th>45805</th>\n",
       "      <td>8873-PORT MELBOURNE-January-2015</td>\n",
       "      <td>8873</td>\n",
       "      <td>2015</td>\n",
       "      <td>January</td>\n",
       "      <td>Summer</td>\n",
       "      <td>PORT MELBOURNE</td>\n",
       "      <td>144.885746</td>\n",
       "      <td>-37.846333</td>\n",
       "      <td>16.72</td>\n",
       "      <td>30.58</td>\n",
       "    </tr>\n",
       "  </tbody>\n",
       "</table>\n",
       "<p>45806 rows × 10 columns</p>\n",
       "</div>"
      ],
      "text/plain": [
       "                                 primaryKey  postcode  year    month  season  \\\n",
       "0               3000-MELBOURNE-January-2015      3000  2015  January  Summer   \n",
       "1          3002-EAST MELBOURNE-January-2015      3002  2015  January  Summer   \n",
       "2          3003-WEST MELBOURNE-January-2015      3003  2015  January  Summer   \n",
       "3               3004-MELBOURNE-January-2015      3004  2015  January  Summer   \n",
       "4      3005-WORLD TRADE CENTRE-January-2015      3005  2015  January  Summer   \n",
       "...                                     ...       ...   ...      ...     ...   \n",
       "45801       8865-SOUTH MELBOURNE-April-2021      8865  2021    April  Autumn   \n",
       "45802         8865-SOUTH MELBOURNE-May-2021      8865  2021      May  Autumn   \n",
       "45803        8865-SOUTH MELBOURNE-June-2021      8865  2021     June  Winter   \n",
       "45804        8865-SOUTH MELBOURNE-July-2021      8865  2021     July  Winter   \n",
       "45805      8873-PORT MELBOURNE-January-2015      8873  2015  January  Summer   \n",
       "\n",
       "                   suburb        long        lat   tmin   tmax  \n",
       "0               MELBOURNE  144.970267 -37.814563  16.72  30.58  \n",
       "1          EAST MELBOURNE  144.987811 -37.816640  16.72  30.58  \n",
       "2          WEST MELBOURNE  144.941123 -37.806255  16.72  30.58  \n",
       "3               MELBOURNE  144.976335 -37.837324  16.72  30.58  \n",
       "4      WORLD TRADE CENTRE  144.954856 -37.822262  16.72  30.58  \n",
       "...                   ...         ...        ...    ...    ...  \n",
       "45801     SOUTH MELBOURNE  145.033718 -37.932910  11.58  19.99  \n",
       "45802     SOUTH MELBOURNE  145.033718 -37.932910   8.28  17.44  \n",
       "45803     SOUTH MELBOURNE  145.033718 -37.932910   6.69  15.16  \n",
       "45804     SOUTH MELBOURNE  145.033718 -37.932910   7.12  14.31  \n",
       "45805      PORT MELBOURNE  144.885746 -37.846333  16.72  30.58  \n",
       "\n",
       "[45806 rows x 10 columns]"
      ]
     },
     "execution_count": 19,
     "metadata": {},
     "output_type": "execute_result"
    }
   ],
   "source": [
    "combined_df"
   ]
  },
  {
   "cell_type": "code",
   "execution_count": 20,
   "metadata": {},
   "outputs": [],
   "source": [
    "# writing data to csv file\n",
    "combined_df.to_csv(\"suburb_generated_weather_data.csv\", index=False)"
   ]
  }
 ],
 "metadata": {
  "kernelspec": {
   "display_name": "Python 3",
   "language": "python",
   "name": "python3"
  },
  "language_info": {
   "codemirror_mode": {
    "name": "ipython",
    "version": 3
   },
   "file_extension": ".py",
   "mimetype": "text/x-python",
   "name": "python",
   "nbconvert_exporter": "python",
   "pygments_lexer": "ipython3",
   "version": "3.6.9"
  }
 },
 "nbformat": 4,
 "nbformat_minor": 2
}
