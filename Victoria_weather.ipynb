{
 "cells": [
  {
   "cell_type": "code",
   "execution_count": 1,
   "metadata": {},
   "outputs": [],
   "source": [
    "# required libraries\n",
    "# install packages using ----pip install---- command, if required\n",
    "from datetime import datetime\n",
    "import matplotlib.pyplot as plt\n",
    "import pandas as pd\n",
    "from tqdm import tqdm_pandas as tqdmp\n",
    "from tqdm.notebook import tqdm, tqdm_notebook, trange\n",
    "from time import sleep\n",
    "from meteostat import Stations, Daily"
   ]
  },
  {
   "cell_type": "code",
   "execution_count": 2,
   "metadata": {},
   "outputs": [],
   "source": [
    "# read australia post codes information dataset\n",
    "australia_long_lat_data = pd.read_csv(\"Australian_Post_Codes_Lat_Lon.csv\")"
   ]
  },
  {
   "cell_type": "code",
   "execution_count": 3,
   "metadata": {},
   "outputs": [],
   "source": [
    "# filter out suburb if it's empty\n",
    "australia_long_lat_data = australia_long_lat_data[australia_long_lat_data['suburb'].notna()]\n",
    "\n",
    "# retrieve Victoria data\n",
    "victoria_long_lat_data = australia_long_lat_data[australia_long_lat_data.state == 'VIC'].reset_index()\n",
    "\n",
    "# select first suburb of each postcode\n",
    "victoria_long_lat_data = victoria_long_lat_data.groupby('postcode').first().reset_index()\n",
    "\n",
    "# drop unwanted columns\n",
    "victoria_long_lat_data.drop(['index', 'state', 'dc', 'type'], axis = 1, inplace = True)"
   ]
  },
  {
   "cell_type": "code",
   "execution_count": 4,
   "metadata": {},
   "outputs": [],
   "source": [
    "# empty dataframe for storing weather information\n",
    "weather_df = pd.DataFrame(columns=['postcode' ,'suburb', 'lat', 'long', 'tavg','tmin','tmax','prcp','snow','wdir','wspd', 'wpgt', 'pres', 'tsun'])"
   ]
  },
  {
   "cell_type": "code",
   "execution_count": 5,
   "metadata": {},
   "outputs": [
    {
     "data": {
      "application/vnd.jupyter.widget-view+json": {
       "model_id": "17125ef2719047cab2a6ce9d032188cb",
       "version_major": 2,
       "version_minor": 0
      },
      "text/plain": [
       "HBox(children=(IntProgress(value=1, bar_style='info', max=1), HTML(value='')))"
      ]
     },
     "metadata": {},
     "output_type": "display_data"
    },
    {
     "name": "stdout",
     "output_type": "stream",
     "text": [
      "\n"
     ]
    }
   ],
   "source": [
    "# looping over each row\n",
    "for index, row in tqdm_notebook(victoria_long_lat_data.iterrows()):\n",
    "    \n",
    "    # getting nearest station information\n",
    "    stations = Stations(lat = row['lat'], lon = row['lon'])\n",
    "    station = stations.fetch(1)\n",
    "    \n",
    "    # retrieve data for last 6 years\n",
    "    data = Daily(station, start = datetime(2015, 1, 1), end = datetime(2021, 7, 31))\n",
    "    data = data.fetch()\n",
    "    \n",
    "    data['postcode'] = row['postcode']\n",
    "    data['suburb'] = row['suburb']\n",
    "    data['long'] = row['lon']\n",
    "    data['lat'] = row['lat']\n",
    "    \n",
    "    # updating empty dataframe\n",
    "    weather_df = weather_df.append(data)"
   ]
  },
  {
   "cell_type": "code",
   "execution_count": 6,
   "metadata": {},
   "outputs": [],
   "source": [
    "# reset index\n",
    "weather_df.reset_index(level=0, inplace=True)\n",
    "\n",
    "# rename index to date column\n",
    "weather_df.rename(columns=({ 'index': 'Date'}), inplace=True)"
   ]
  },
  {
   "cell_type": "code",
   "execution_count": 7,
   "metadata": {},
   "outputs": [],
   "source": [
    "# split date into year, month and day\n",
    "weather_df['year'] = pd.DatetimeIndex(weather_df['Date']).year\n",
    "weather_df['month'] = pd.DatetimeIndex(weather_df['Date']).month\n",
    "weather_df['day'] = pd.DatetimeIndex(weather_df['Date']).day"
   ]
  },
  {
   "cell_type": "code",
   "execution_count": 8,
   "metadata": {},
   "outputs": [],
   "source": [
    "# drop unwanted columns\n",
    "weather_df.drop(['snow', 'wdir', 'wspd', 'wpgt', 'pres', 'tsun', 'prcp'], axis = 1, inplace = True)\n",
    "\n",
    "# clean up data where long and lat is 0 (if available)\n",
    "weather_df = weather_df[(weather_df.long != 0) & (weather_df.lat != 0)]"
   ]
  },
  {
   "cell_type": "code",
   "execution_count": 9,
   "metadata": {},
   "outputs": [],
   "source": [
    "# group data to get average minimum and maximum temp for each month of each suburb\n",
    "avg_min_temp_df = weather_df.groupby(['postcode', 'year', 'month', 'suburb', 'long', 'lat'])['tmin'].mean().reset_index()\n",
    "avg_max_temp_df = weather_df.groupby(['postcode', 'year', 'month', 'suburb', 'long', 'lat'])['tmax'].mean().reset_index()"
   ]
  },
  {
   "cell_type": "code",
   "execution_count": 10,
   "metadata": {},
   "outputs": [],
   "source": [
    "# merging both dataframes\n",
    "combined_df = pd.concat([avg_min_temp_df, avg_max_temp_df[['tmax']]], axis=1)"
   ]
  },
  {
   "cell_type": "code",
   "execution_count": 11,
   "metadata": {},
   "outputs": [],
   "source": [
    "# writing data to csv file\n",
    "combined_df.to_csv(\"suburb_generated_weather_data.csv\", index=False)"
   ]
  }
 ],
 "metadata": {
  "kernelspec": {
   "display_name": "Python 3",
   "language": "python",
   "name": "python3"
  },
  "language_info": {
   "codemirror_mode": {
    "name": "ipython",
    "version": 3
   },
   "file_extension": ".py",
   "mimetype": "text/x-python",
   "name": "python",
   "nbconvert_exporter": "python",
   "pygments_lexer": "ipython3",
   "version": "3.6.9"
  }
 },
 "nbformat": 4,
 "nbformat_minor": 2
}
